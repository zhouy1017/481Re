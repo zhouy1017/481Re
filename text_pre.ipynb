{
 "metadata": {
  "language_info": {
   "codemirror_mode": {
    "name": "ipython",
    "version": 3
   },
   "file_extension": ".py",
   "mimetype": "text/x-python",
   "name": "python",
   "nbconvert_exporter": "python",
   "pygments_lexer": "ipython3",
   "version": "3.8.8"
  },
  "orig_nbformat": 2,
  "kernelspec": {
   "name": "python388jvsc74a57bd0cfaa5978832857cd51eecedb2dec2070fcad2e06c9da2336e3fd10c313dee715",
   "display_name": "Python 3.8.8 64-bit ('EWHY': conda)"
  },
  "metadata": {
   "interpreter": {
    "hash": "cfaa5978832857cd51eecedb2dec2070fcad2e06c9da2336e3fd10c313dee715"
   }
  }
 },
 "nbformat": 4,
 "nbformat_minor": 2,
 "cells": [
  {
   "cell_type": "code",
   "execution_count": 42,
   "metadata": {},
   "outputs": [],
   "source": [
    "import pandas as pd\n",
    "import nltk\n",
    "import re\n",
    "from gensim.models import Word2Vec"
   ]
  },
  {
   "cell_type": "code",
   "execution_count": 43,
   "metadata": {},
   "outputs": [],
   "source": [
    "test_df = pd.read_csv(\"data/test_data.csv\")"
   ]
  },
  {
   "cell_type": "code",
   "execution_count": 44,
   "metadata": {},
   "outputs": [],
   "source": [
    "ref_df = pd.read_csv(\"data/raw_reference_data.csv\")\n",
    "all_des = pd.concat([ref_df['AppDescription'],test_df['AppDescription']])\n",
    "all_des_list = all_des.tolist()"
   ]
  },
  {
   "cell_type": "code",
   "execution_count": 47,
   "metadata": {},
   "outputs": [],
   "source": [
    "model = Word2Vec(sentences=word_data, size=200, window=5, min_count=3, workers=4)\n",
    "model.save(\"word2vec.model\")"
   ]
  },
  {
   "cell_type": "code",
   "execution_count": 48,
   "metadata": {},
   "outputs": [
    {
     "output_type": "execute_result",
     "data": {
      "text/plain": [
       "10072"
      ]
     },
     "metadata": {},
     "execution_count": 48
    }
   ],
   "source": [
    "vocab_obj = model.wv.vocab.keys()\n",
    "len(vocab_obj)"
   ]
  },
  {
   "cell_type": "code",
   "execution_count": null,
   "metadata": {},
   "outputs": [],
   "source": []
  }
 ]
}