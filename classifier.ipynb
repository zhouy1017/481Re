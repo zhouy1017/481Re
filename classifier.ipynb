{
 "metadata": {
  "language_info": {
   "codemirror_mode": {
    "name": "ipython",
    "version": 3
   },
   "file_extension": ".py",
   "mimetype": "text/x-python",
   "name": "python",
   "nbconvert_exporter": "python",
   "pygments_lexer": "ipython3",
   "version": "3.8.8"
  },
  "orig_nbformat": 2,
  "kernelspec": {
   "name": "python388jvsc74a57bd0cfaa5978832857cd51eecedb2dec2070fcad2e06c9da2336e3fd10c313dee715",
   "display_name": "Python 3.8.8 64-bit ('EWHY': conda)"
  },
  "metadata": {
   "interpreter": {
    "hash": "cfaa5978832857cd51eecedb2dec2070fcad2e06c9da2336e3fd10c313dee715"
   }
  }
 },
 "nbformat": 4,
 "nbformat_minor": 2,
 "cells": [
  {
   "cell_type": "code",
   "execution_count": 1,
   "metadata": {},
   "outputs": [],
   "source": [
    "import pandas as pd\n",
    "import nltk\n",
    "import numpy as np\n",
    "import re\n",
    "from gensim.models import Word2Vec\n",
    "import lightgbm as lgb\n",
    "from sklearn.feature_selection import RFE"
   ]
  },
  {
   "cell_type": "code",
   "execution_count": 2,
   "metadata": {},
   "outputs": [],
   "source": [
    "# The functions to transform permission vector to numberical label or vice versa.\n",
    "\n",
    "limited_per_list = ['take pictures and videos','read the contents of your USB storage', 'record audio',\n",
    " 'read your contacts','approximate location (network-based)',\n",
    " 'precise location (GPS and network-based)']\n",
    "def vector_to_label(per_vector):\n",
    "    i = len(per_vector) - 1\n",
    "    j = 0\n",
    "    label = 0\n",
    "    while i >= 0 :\n",
    "        label += 2**(i) * per_vector[j]\n",
    "        i -= 1\n",
    "        j += 1\n",
    "    return label\n",
    "\n",
    "def label_to_vector(label):\n",
    "    res = [int(i) for i in list('{0:0b}'.format(label))]\n",
    "    while len(res) != 6:\n",
    "        res.insert(0,0)\n",
    "    return res\n"
   ]
  },
  {
   "cell_type": "code",
   "execution_count": 3,
   "metadata": {},
   "outputs": [],
   "source": [
    "# The functions to prepare dataframe for feeding into gbm\n",
    "def transform_per(raw_permission):\n",
    "    p_list = raw_permission.split(\",\")\n",
    "    i = 0\n",
    "    per_vector = [0,0,0,0,0,0]\n",
    "    while (i < len(p_list)):\n",
    "        j = 0\n",
    "        while (j < len(limited_per_list)):\n",
    "            if(p_list[i] == limited_per_list[j]):\n",
    "                per_vector[j] = 1\n",
    "            j += 1\n",
    "        i += 1\n",
    "    return per_vector\n",
    "\n",
    "def des_to_vector(raw_description):\n",
    "    global word_list\n",
    "    des_list = raw_description.split()\n",
    "    i = 0\n",
    "    des_vector = [0]*len(word_list)\n",
    "    while i < len(des_list):\n",
    "        j = 0\n",
    "        while j < len(word_list):\n",
    "            if(des_list[i] == word_list[j]):\n",
    "                des_vector[j] = 1\n",
    "            j += 1\n",
    "        i += 1\n",
    "    return des_vector\n",
    "\n",
    "def process_df(df):\n",
    "    df = df.dropna()\n",
    "    df.reset_index(inplace=True)\n",
    "    new_per_col = df['AppPermission'].map(transform_per)\n",
    "    df['AppPermission'] = new_per_col\n",
    "    model = Word2Vec.load(\"word2vec.model\")\n",
    "    vocab_obj = model.wv.vocab\n",
    "    global word_list\n",
    "    word_list = vocab_obj.keys()\n",
    "    word_list = list(word_list)\n",
    "    new_des_col = df['AppDescription'].map(des_to_vector)\n",
    "    df['AppDescription'] = new_des_col\n",
    "    df.reset_index(inplace=True)\n",
    "    i = 0\n",
    "    while i < len(word_list):\n",
    "        j = 0\n",
    "        new_col = [0] * df['AppDescription'].size\n",
    "        while j < df['AppDescription'].size:\n",
    "            new_col[j] = df['AppDescription'][j][i]\n",
    "            j += 1\n",
    "        df[word_list[i]] = pd.Series(new_col)\n",
    "        i += 1\n",
    "    df = df.drop(['level_0','index'],axis=1)\n",
    "    df['Per_Label'] = df['AppPermission'].map(vector_to_label)\n",
    "\n",
    "    return df"
   ]
  },
  {
   "cell_type": "code",
   "execution_count": 4,
   "metadata": {},
   "outputs": [],
   "source": [
    "test_df = pd.read_csv(\"data/test_data.csv\")\n",
    "ref_df = pd.read_csv(\"data/raw_reference_data.csv\")"
   ]
  },
  {
   "cell_type": "code",
   "execution_count": 5,
   "metadata": {},
   "outputs": [
    {
     "output_type": "stream",
     "name": "stderr",
     "text": [
      "<ipython-input-3-3ab85a0192e1>:33: SettingWithCopyWarning: \n",
      "A value is trying to be set on a copy of a slice from a DataFrame.\n",
      "Try using .loc[row_indexer,col_indexer] = value instead\n",
      "\n",
      "See the caveats in the documentation: https://pandas.pydata.org/pandas-docs/stable/user_guide/indexing.html#returning-a-view-versus-a-copy\n",
      "  df['AppPermission'] = new_per_col\n",
      "<ipython-input-3-3ab85a0192e1>:40: SettingWithCopyWarning: \n",
      "A value is trying to be set on a copy of a slice from a DataFrame.\n",
      "Try using .loc[row_indexer,col_indexer] = value instead\n",
      "\n",
      "See the caveats in the documentation: https://pandas.pydata.org/pandas-docs/stable/user_guide/indexing.html#returning-a-view-versus-a-copy\n",
      "  df['AppDescription'] = new_des_col\n",
      "<ipython-input-3-3ab85a0192e1>:49: SettingWithCopyWarning: \n",
      "A value is trying to be set on a copy of a slice from a DataFrame.\n",
      "Try using .loc[row_indexer,col_indexer] = value instead\n",
      "\n",
      "See the caveats in the documentation: https://pandas.pydata.org/pandas-docs/stable/user_guide/indexing.html#returning-a-view-versus-a-copy\n",
      "  df[word_list[i]] = pd.Series(new_col)\n",
      "<ipython-input-3-3ab85a0192e1>:33: SettingWithCopyWarning: \n",
      "A value is trying to be set on a copy of a slice from a DataFrame.\n",
      "Try using .loc[row_indexer,col_indexer] = value instead\n",
      "\n",
      "See the caveats in the documentation: https://pandas.pydata.org/pandas-docs/stable/user_guide/indexing.html#returning-a-view-versus-a-copy\n",
      "  df['AppPermission'] = new_per_col\n",
      "<ipython-input-3-3ab85a0192e1>:40: SettingWithCopyWarning: \n",
      "A value is trying to be set on a copy of a slice from a DataFrame.\n",
      "Try using .loc[row_indexer,col_indexer] = value instead\n",
      "\n",
      "See the caveats in the documentation: https://pandas.pydata.org/pandas-docs/stable/user_guide/indexing.html#returning-a-view-versus-a-copy\n",
      "  df['AppDescription'] = new_des_col\n",
      "<ipython-input-3-3ab85a0192e1>:49: SettingWithCopyWarning: \n",
      "A value is trying to be set on a copy of a slice from a DataFrame.\n",
      "Try using .loc[row_indexer,col_indexer] = value instead\n",
      "\n",
      "See the caveats in the documentation: https://pandas.pydata.org/pandas-docs/stable/user_guide/indexing.html#returning-a-view-versus-a-copy\n",
      "  df[word_list[i]] = pd.Series(new_col)\n"
     ]
    }
   ],
   "source": [
    "test_df = process_df(test_df)\n",
    "ref_df = process_df(ref_df)\n",
    "train = ref_df.drop(['AppID','AppDescription','AppPermission','Per_Label'],axis=1)\n",
    "test = test_df.drop(['AppID','AppDescription','AppPermission','Per_Label'],axis=1)\n",
    "label = ref_df['Per_Label']\n",
    "label_test = test_df['Per_Label']\n",
    "test_df.to_csv(\"data/test_data_processed.csv\")\n",
    "ref_df.to_csv(\"data/ref_data_processed.csv\")"
   ]
  },
  {
   "cell_type": "code",
   "execution_count": 9,
   "metadata": {},
   "outputs": [],
   "source": [
    "## Calculate the feature importance and drop the features that have low impact\n",
    "gbm = lgb.LGBMClassifier()\n",
    "gbm.fit(train, label)\n",
    "gbm.booster_.feature_importance()\n",
    "fea_imp_ = pd.DataFrame({'cols':train.columns, 'fea_imp':gbm.feature_importances_})\n",
    "new_fea_imp = fea_imp_.loc[fea_imp_.fea_imp > 0].sort_values(by=['fea_imp'], ascending = False)\n",
    "new_ref_train = train[new_fea_imp['cols']]\n",
    "new_test = test[new_fea_imp['cols']]"
   ]
  },
  {
   "cell_type": "code",
   "execution_count": 10,
   "metadata": {},
   "outputs": [],
   "source": [
    "## New interation of training and predicting\n",
    "gbm = lgb.LGBMClassifier()\n",
    "gbm.fit(new_ref_train, label)\n",
    "y_  = gbm.predict(new_ref_train)"
   ]
  },
  {
   "cell_type": "code",
   "execution_count": 11,
   "metadata": {},
   "outputs": [
    {
     "output_type": "stream",
     "name": "stdout",
     "text": [
      "99.67532467532467\n"
     ]
    }
   ],
   "source": [
    "i = 0\n",
    "err = 0\n",
    "while i < len(y_):\n",
    "    if(y_[i] != label[i]):\n",
    "    \n",
    "        err += 1\n",
    "    i += 1\n",
    "print((i-err)/i * 100)"
   ]
  },
  {
   "cell_type": "code",
   "execution_count": 23,
   "metadata": {},
   "outputs": [],
   "source": [
    "y_pop  = gbm.predict(new_test)"
   ]
  },
  {
   "cell_type": "code",
   "execution_count": 24,
   "metadata": {
    "tags": []
   },
   "outputs": [
    {
     "output_type": "stream",
     "name": "stdout",
     "text": [
      "1470\n1093\n250\n127\n"
     ]
    }
   ],
   "source": [
    "# To evaluate the Pop set, we use following scoring laws:\n",
    "# 1. If Pop App uses same or less Permissions as Ref, A Green Light.\n",
    "# 2. If Pop App uses more Permissions as Ref, A Red Light.\n",
    "# 3. If Pop App uses some less and some more Permissions as Ref, we consider the prediction failed, as Black Light.\n",
    "i = 0\n",
    "Green = 0\n",
    "Red = 0\n",
    "Black = 0\n",
    "while i < len(y_pop):\n",
    "    if(y_pop[i] == label_test[i]):\n",
    "        Green += 1\n",
    "    else:\n",
    "        y_vec = label_to_vector(y_pop[i])\n",
    "        label_vec = label_to_vector(label_test[i])\n",
    "        j = 0\n",
    "        MORE = False\n",
    "        LESS = False\n",
    "        FAIL = False\n",
    "        while j < 6:\n",
    "            if(y_vec[j] == label_vec[j]):\n",
    "                j += 1\n",
    "                continue\n",
    "            if(y_vec[j] > label_vec[j]):\n",
    "                if LESS:\n",
    "                    Black += 1\n",
    "                    FAIL = True\n",
    "                    break\n",
    "                else:\n",
    "                    MORE = True\n",
    "                    j += 1\n",
    "                    continue\n",
    "            if(y_vec[j] < label_vec[j]):\n",
    "                if MORE:\n",
    "                    Black += 1\n",
    "                    FAIL = True\n",
    "                    break\n",
    "                else:\n",
    "                    LESS = True\n",
    "                    j += 1\n",
    "                    continue\n",
    "        if not FAIL:\n",
    "            if MORE:\n",
    "                Red += 1\n",
    "            else:\n",
    "                Green += 1\n",
    "    i += 1\n",
    "\n",
    "print(i)\n",
    "print(Green)\n",
    "print(Red)\n",
    "print(Black)"
   ]
  },
  {
   "cell_type": "code",
   "execution_count": null,
   "metadata": {},
   "outputs": [],
   "source": []
  }
 ]
}